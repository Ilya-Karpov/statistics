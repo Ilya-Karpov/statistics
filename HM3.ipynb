{
 "cells": [
  {
   "cell_type": "markdown",
   "id": "edf0d6e1",
   "metadata": {},
   "source": [
    "Смоделировать игру против лотерейного автомата типа “777”. Игрок платит 1 руб., после чего выпадает случайное целое число, равномерно распределенное от 0 до 999. При некоторых значениях числа игрок получает выигрыш.\n",
    "\n",
    "777: 200 руб.\n",
    "\n",
    "999: 100 руб.\n",
    "\n",
    "555: 50 руб.\n",
    "\n",
    "333: 15 руб.\n",
    "\n",
    "111: 10 руб.\n",
    "\n",
    "*77: 5 руб.\n",
    "\n",
    "**7: 3 руб.\n",
    "\n",
    "*00: 2 руб.\n",
    "\n",
    "**0: 1 руб.\n",
    "\n",
    "Вопросы:\n",
    "\n",
    "Выгодна ли игра игроку?\n",
    "\n",
    "Сколько в среднем приобретает или теряет игрок за одну игру?"
   ]
  },
  {
   "cell_type": "code",
   "execution_count": 9,
   "id": "daca8fdc",
   "metadata": {},
   "outputs": [],
   "source": [
    "import numpy as np"
   ]
  },
  {
   "cell_type": "code",
   "execution_count": 145,
   "id": "e94fe3fa",
   "metadata": {},
   "outputs": [
    {
     "name": "stdout",
     "output_type": "stream",
     "text": [
      "-0.231268\n"
     ]
    }
   ],
   "source": [
    "trials = 1000000\n",
    "profit = 0\n",
    "\n",
    "for i in range(trials):\n",
    "    profit -= 1\n",
    "    random_score = np.random.randint(0, 1000)\n",
    "    if random_score == 777:\n",
    "        profit += 200\n",
    "    elif random_score == 999:\n",
    "        profit += 100\n",
    "    elif random_score == 555:\n",
    "        profit += 20\n",
    "    elif random_score == 333:\n",
    "        profit += 15\n",
    "    elif random_score == 111:\n",
    "        profit += 10\n",
    "        \n",
    "    elif random_score % 100 == 77 and random_score != 777:\n",
    "        profit += 5\n",
    "    elif random_score % 10 == 7 and random_score % 100 != 77:\n",
    "        profit += 3\n",
    "    elif random_score % 100 == 0:\n",
    "        profit += 2\n",
    "    elif random_score % 10 == 0 and random_score % 100 != 0:\n",
    "        profit += 1\n",
    "        \n",
    "print(profit/trials)"
   ]
  },
  {
   "cell_type": "markdown",
   "id": "4a231e6f",
   "metadata": {},
   "source": [
    "Выводы:\n",
    "    \n",
    "Игра на лотерейном автомате типа \"777\" для игрока не выгодна.\n",
    "\n",
    "В среднем, игрок теряет за одну игру 23 коп."
   ]
  }
 ],
 "metadata": {
  "kernelspec": {
   "display_name": "Python 3",
   "language": "python",
   "name": "python3"
  },
  "language_info": {
   "codemirror_mode": {
    "name": "ipython",
    "version": 3
   },
   "file_extension": ".py",
   "mimetype": "text/x-python",
   "name": "python",
   "nbconvert_exporter": "python",
   "pygments_lexer": "ipython3",
   "version": "3.8.8"
  }
 },
 "nbformat": 4,
 "nbformat_minor": 5
}
